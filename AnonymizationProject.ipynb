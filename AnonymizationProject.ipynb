{
  "nbformat": 4,
  "nbformat_minor": 0,
  "metadata": {
    "colab": {
      "provenance": [],
      "collapsed_sections": [
        "FlLp5iHSWGgM",
        "s3U1NQ-HcwMe",
        "sfQd_Gb3G5z6"
      ]
    },
    "kernelspec": {
      "name": "python3",
      "display_name": "Python 3"
    },
    "language_info": {
      "name": "python"
    }
  },
  "cells": [
    {
      "cell_type": "markdown",
      "source": [
        "# In case we need to pipeline their dataset."
      ],
      "metadata": {
        "id": "FlLp5iHSWGgM"
      }
    },
    {
      "cell_type": "code",
      "source": [
        "from google.colab import drive\n",
        "drive.mount('/content/drive')"
      ],
      "metadata": {
        "colab": {
          "base_uri": "https://localhost:8080/"
        },
        "id": "q6gRRgQHkJkT",
        "outputId": "71454996-69d9-4dfa-a4a6-bdc87f995c0e"
      },
      "execution_count": null,
      "outputs": [
        {
          "output_type": "stream",
          "name": "stdout",
          "text": [
            "Mounted at /content/drive\n"
          ]
        }
      ]
    },
    {
      "cell_type": "markdown",
      "source": [
        "Installing dependencies and importing files"
      ],
      "metadata": {
        "id": "K5953bo8lH74"
      }
    },
    {
      "cell_type": "code",
      "source": [
        "#!pip install PyPDF2\n",
        "#!pip install pyspark\n",
        "#!pip install PyMuPDF\n"
      ],
      "metadata": {
        "id": "ZLDI-SFQkhkW",
        "colab": {
          "base_uri": "https://localhost:8080/"
        },
        "outputId": "257fa589-46a0-409e-e624-a00a3fd7607a"
      },
      "execution_count": null,
      "outputs": [
        {
          "output_type": "stream",
          "name": "stdout",
          "text": [
            "Collecting PyMuPDF\n",
            "  Downloading PyMuPDF-1.23.26-cp310-none-manylinux2014_x86_64.whl (4.4 MB)\n",
            "\u001b[2K     \u001b[90m━━━━━━━━━━━━━━━━━━━━━━━━━━━━━━━━━━━━━━━━\u001b[0m \u001b[32m4.4/4.4 MB\u001b[0m \u001b[31m13.7 MB/s\u001b[0m eta \u001b[36m0:00:00\u001b[0m\n",
            "\u001b[?25hCollecting PyMuPDFb==1.23.22 (from PyMuPDF)\n",
            "  Downloading PyMuPDFb-1.23.22-py3-none-manylinux2014_x86_64.manylinux_2_17_x86_64.whl (30.6 MB)\n",
            "\u001b[2K     \u001b[90m━━━━━━━━━━━━━━━━━━━━━━━━━━━━━━━━━━━━━━━━\u001b[0m \u001b[32m30.6/30.6 MB\u001b[0m \u001b[31m22.6 MB/s\u001b[0m eta \u001b[36m0:00:00\u001b[0m\n",
            "\u001b[?25hInstalling collected packages: PyMuPDFb, PyMuPDF\n",
            "Successfully installed PyMuPDF-1.23.26 PyMuPDFb-1.23.22\n"
          ]
        }
      ]
    },
    {
      "cell_type": "code",
      "source": [
        "import PyPDF2 as pdf\n",
        "import fitz  # PyMuPDF\n",
        "from pyspark.rdd import RDD\n",
        "from pyspark.sql import Row\n",
        "from pyspark.sql import DataFrame\n",
        "from pyspark.sql import SparkSession\n",
        "from pyspark.sql.functions import lit\n",
        "from pyspark.sql.functions import col\n",
        "from pyspark.sql.functions import desc\n",
        "from pyspark.sql.types import StructType, StructField, StringType\n",
        "import os\n"
      ],
      "metadata": {
        "id": "GX2pyiTrk93I"
      },
      "execution_count": null,
      "outputs": []
    },
    {
      "cell_type": "code",
      "source": [
        "spark = SparkSession.builder.appName(\"PDF Text Processing\").getOrCreate()\n",
        "sc = spark.sparkContext"
      ],
      "metadata": {
        "id": "-cMHzJzLoiqi"
      },
      "execution_count": null,
      "outputs": []
    },
    {
      "cell_type": "markdown",
      "source": [
        "Data Processing"
      ],
      "metadata": {
        "id": "NpSr07oJpOi7"
      }
    },
    {
      "cell_type": "code",
      "source": [
        "# Specify the path to your PDF file(s)\n",
        "pdf_path = \"/content/drive/MyDrive/Big Data Anonymization/Provista Files/Auto-Populated Report.pdf\"\n",
        "\n",
        "# Function to process a single PDF and extract data\n",
        "def process_pdf(pdf_path):\n",
        "    data = []\n",
        "    with open(pdf_path, 'rb') as file:\n",
        "        pdf_reader = pdf.PdfReader(file)\n",
        "\n",
        "        for page_num in range(len(pdf_reader.pages)):\n",
        "            page = pdf_reader.pages[page_num]\n",
        "            text = page.extract_text()\n",
        "\n",
        "            if text:  # If text extraction is successful\n",
        "                split_text = text.split(\"\\n\")\n",
        "                try:\n",
        "                    patient_row = Row(Barcode=split_text[0], PatientID=split_text[3], Ethnicity=split_text[6],\n",
        "                                      Age=split_text[7], SerumTumorMarkers=split_text[12], ClinicallySignificant=split_text[27],\n",
        "                                      PiRAD=split_text[28], MRIDate=split_text[19], Location=split_text[34],\n",
        "                                      TumorMarkersResults=split_text[22], Conclusion=split_text[25])\n",
        "                    data.append(patient_row)\n",
        "                except IndexError:  # Handle cases where some data might not be available\n",
        "                    print(f\"Error processing page {page_num}: Text structure not as expected.\")\n",
        "    return data\n",
        "\n",
        "# Process the PDF and create a Spark DataFrame from the data\n",
        "data = process_pdf(pdf_path)\n",
        "df = spark.createDataFrame(data)\n",
        "\n",
        "# Show the DataFrame to verify the results\n",
        "df.show()\n"
      ],
      "metadata": {
        "colab": {
          "base_uri": "https://localhost:8080/"
        },
        "id": "LeJVqimNlRRk",
        "outputId": "0969ca3b-e053-444c-c3f0-c881b69b06a6"
      },
      "execution_count": null,
      "outputs": [
        {
          "output_type": "stream",
          "name": "stdout",
          "text": [
            "+------------+------------+---------+---+--------------------+---------------------+---------+-----------+--------------------+--------------------+--------------------+\n",
            "|     Barcode|   PatientID|Ethnicity|Age|   SerumTumorMarkers|ClinicallySignificant|    PiRAD|    MRIDate|            Location| TumorMarkersResults|          Conclusion|\n",
            "+------------+------------+---------+---+--------------------+---------------------+---------+-----------+--------------------+--------------------+--------------------+\n",
            "|000000000318| PRO00000061|    Other| 61|Total PSA (ng/mL)...| Yes Clinically Si...|PI-RAD: 3| 19-11-2017|Location: 123 Map...|Some Tumor Marker...|WE SUGGEST TO DIS...|\n",
            "+------------+------------+---------+---+--------------------+---------------------+---------+-----------+--------------------+--------------------+--------------------+\n",
            "\n"
          ]
        }
      ]
    },
    {
      "cell_type": "markdown",
      "source": [
        "# **Anonymization**\n"
      ],
      "metadata": {
        "id": "s3U1NQ-HcwMe"
      }
    },
    {
      "cell_type": "markdown",
      "source": [
        "Anonymization using the open-source presidio library. Presidio makes use of nlp-models (transformers), pattern-recognition, context and more to perform anonymization of data."
      ],
      "metadata": {
        "id": "RRRmJo13c4z_"
      }
    },
    {
      "cell_type": "code",
      "source": [
        "from presidio_analyzer import (Pattern,PatternRecognizer,RecognizerRegistry,AnalyzerEngine,)\n",
        "from presidio_analyzer.predefined_recognizers import *\n",
        "from presidio_anonymizer import AnonymizerEngine\n",
        "from presidio_anonymizer.entities import OperatorConfig, RecognizerResult"
      ],
      "metadata": {
        "id": "w0lJy0HAdGZn"
      },
      "execution_count": null,
      "outputs": []
    },
    {
      "cell_type": "markdown",
      "source": [
        "## Define custom patterns"
      ],
      "metadata": {
        "id": "UBudzAgtdKmm"
      }
    },
    {
      "cell_type": "code",
      "source": [
        "# Create a weak ID regex (matches any string of numbers greater than length 8 and less than 20)\n",
        "generic_id_regex = r\"\\b\\d{9,20}\\b\"\n",
        "generic_id_pattern = Pattern(name='generic id (weak)', regex=generic_id_regex, score=0.1)\n",
        "\n",
        "# Define a recognizer using the generic_id pattern\n",
        "general_id_recognizer_w_context = PatternRecognizer(\n",
        "    supported_entity = \"GENERIC_ID\",\n",
        "    patterns = [generic_id_pattern],\n",
        "    context = [\"id\", \"identification\", \"license\"]\n",
        ")"
      ],
      "metadata": {
        "id": "HjhwEfGddIXb"
      },
      "execution_count": null,
      "outputs": []
    },
    {
      "cell_type": "markdown",
      "source": [
        "## Define Analyzer"
      ],
      "metadata": {
        "id": "bh0qn7TIdOmE"
      }
    },
    {
      "cell_type": "markdown",
      "source": [
        "### Initialize recognizer registry"
      ],
      "metadata": {
        "id": "BWuEbcxPdVY7"
      }
    },
    {
      "cell_type": "code",
      "source": [
        "# Initialize a new registry, used to load recognizers used for anonymization\n",
        "registry = RecognizerRegistry()\n",
        "\n",
        "# Add custom recognizers\n",
        "registry.add_recognizer(general_id_recognizer_w_context)\n",
        "\n",
        "# Add the predefined_recognizers that will be used in the anonymization process\n",
        "recognizers_list = [\n",
        "    CreditCardRecognizer,\n",
        "    DateRecognizer,\n",
        "    EmailRecognizer,\n",
        "    MedicalLicenseRecognizer,\n",
        "    PhoneRecognizer,\n",
        "    UrlRecognizer,\n",
        "    IbanRecognizer,\n",
        "]\n",
        "\n",
        "for recognizer in recognizers_list:\n",
        "    registry.add_recognizer(recognizer(supported_language='en'))\n",
        "\n",
        "# Special Case Transformers Recognizer : Recognize entities using the spacy-huggingface-pipeline package.\n",
        "# PERSON, LOCATION, ORGANIZATION, AGE, ID, EMAIL, DATE_TIME, NUMBER. Perform context enchancement\n",
        "registry.add_recognizer(TransformersRecognizer(supported_language='en', context=['patient']))"
      ],
      "metadata": {
        "id": "R780Id0CdUvc"
      },
      "execution_count": null,
      "outputs": []
    },
    {
      "cell_type": "markdown",
      "source": [
        "### Create analyzer"
      ],
      "metadata": {
        "id": "pIS5p_kVdabr"
      }
    },
    {
      "cell_type": "code",
      "source": [
        "analyzer = AnalyzerEngine(registry=registry)"
      ],
      "metadata": {
        "id": "h2yAbKYUddjJ"
      },
      "execution_count": null,
      "outputs": []
    },
    {
      "cell_type": "markdown",
      "source": [
        "## Define Anonymizer"
      ],
      "metadata": {
        "id": "9dVp3uL-dfdP"
      }
    },
    {
      "cell_type": "code",
      "source": [
        "# Define two anonymizers, one that strips the anonymized data completely and another that replaces it with the entity tag\n",
        "# Define anonymization operators\n",
        "redact_operator = {\n",
        "    \"DEFAULT\": OperatorConfig(\"redact\", {}),\n",
        "}\n",
        "\n",
        "# Setting the entity operator to None results in the anonymizer using the entity names for anonymization\n",
        "entity_operator = None\n",
        "anonymizer = AnonymizerEngine()"
      ],
      "metadata": {
        "id": "3LnwSiAudh58"
      },
      "execution_count": null,
      "outputs": []
    },
    {
      "cell_type": "code",
      "source": [
        "# Function called to anonymize the data using the initialized anonymizer\n",
        "def anonymize(unmasked_text,analyzer,anonymizer, operator):\n",
        "    analyzer_results = analyzer.analyze(text=unmasked_text, language=\"en\")\n",
        "    anonymized_results = anonymizer.anonymize(\n",
        "        text=unmasked_text, analyzer_results=analyzer_results, operators=operator\n",
        "    )\n",
        "    return anonymized_results"
      ],
      "metadata": {
        "id": "oUHsTui7dklp"
      },
      "execution_count": null,
      "outputs": []
    },
    {
      "cell_type": "markdown",
      "source": [
        "# **spaCy**"
      ],
      "metadata": {
        "id": "sfQd_Gb3G5z6"
      }
    },
    {
      "cell_type": "markdown",
      "source": [
        "This Named-Entity-Recognition model is built by fine-tuning the core small model (sm)\n",
        "The training dataset is taken from https://huggingface.co/datasets/ai4privacy/pii-masking-200k\n",
        "The first step involves transforming the data into a format spaCy can recognize. For example: (\"Tokyo Tower is 333m tall.\", [(0, 11, \"BUILDING\")]). Where a dictionary with text followed by a tupple that includes start, end, and label of the interesting named entities."
      ],
      "metadata": {
        "id": "TBTY-J8bIpit"
      }
    },
    {
      "cell_type": "code",
      "source": [
        "#Data preparation for NER using spaCy\n",
        "# pip install datasets spacy\n",
        "# pip install spacy\n",
        "# python -m spacy download en_core_web_sm\n",
        "\n",
        "from datasets import load_dataset\n",
        "import ast\n",
        "\n",
        "# Load the dataset\n",
        "dataset = load_dataset(\"ai4privacy/pii-masking-200k\", split=\"train\")\n",
        "\n",
        "# Function to convert dataset entries to spaCy's training data format\n",
        "def convert_to_spacy_format(example):\n",
        "    text = example[\"unmasked_text\"]\n",
        "    labels = example[\"span_labels\"]\n",
        "\n",
        "    if isinstance(labels, str):   # Convert string to list as the dataset is in string format\n",
        "        try:\n",
        "            labels = ast.literal_eval(labels)\n",
        "        except ValueError:\n",
        "            print(\"Skipping irregular label_info:\", labels)\n",
        "            return (text, {\"entities\": []})\n",
        "\n",
        "    entities = []\n",
        "    for start, end, label in labels:\n",
        "        if label != 'O':\n",
        "            entities.append((start, end, label))\n",
        "\n",
        "    return (text, {\"entities\": entities})\n",
        "\n",
        "spacy_training_data = [convert_to_spacy_format(dataset[i]) for i in range(2)]  # Adjust as needed\n",
        "print(spacy_training_data)\n"
      ],
      "metadata": {
        "id": "8dooOoUDJiWt"
      },
      "execution_count": null,
      "outputs": []
    },
    {
      "cell_type": "markdown",
      "source": [
        "Once the data is prepared, it can be used to fine-tune the existing NER sm model. This will create a train.spacy file, which is where the fine-tuned model is."
      ],
      "metadata": {
        "id": "40J9MlhuKCUq"
      }
    },
    {
      "cell_type": "code",
      "source": [
        "import spacy\n",
        "from spacytest import spacy_training_data, convert_to_spacy_format\n",
        "from spacy.util import minibatch, compounding\n",
        "import random\n",
        "from datasets import load_dataset\n",
        "import ast\n",
        "from spacy.training import Example\n",
        "from spacy.scorer import Scorer\n",
        "\n",
        "\n",
        "random.seed(1)\n",
        "\n",
        "\n",
        "nlp = spacy.load(\"en_core_web_sm\")\n",
        "dataset = load_dataset(\"ai4privacy/pii-masking-200k\", split=\"train\")\n",
        "spacy_training_data = [convert_to_spacy_format(dataset[i]) for i in range(100)]  #determine the training dataset size here\n",
        "\n",
        "# Convert the training data to Example objects\n",
        "def make_examples(nlp, data):\n",
        "    examples = []\n",
        "    for text, annotations in data:\n",
        "        doc = nlp.make_doc(text)\n",
        "        example = Example.from_dict(doc, annotations)\n",
        "        examples.append(example)\n",
        "    return examples\n",
        "\n",
        "# Convert  training data to Example objects\n",
        "examples = make_examples(nlp, spacy_training_data)\n",
        "\n",
        "# Add labels to the NER pipeline / fine-tuning\n",
        "if \"ner\" not in nlp.pipe_names:\n",
        "    ner = nlp.create_pipe(\"ner\")\n",
        "    nlp.add_pipe(ner, last=True)\n",
        "else:\n",
        "    ner = nlp.get_pipe(\"ner\")\n",
        "# Add new entity labels to NER\n",
        "for _, annotations in spacy_training_data:\n",
        "    for ent in annotations.get(\"entities\"):\n",
        "        ner.add_label(ent[2])\n",
        "\n",
        "# Disable other pipeline components during training\n",
        "other_pipes = [pipe for pipe in nlp.pipe_names if pipe != \"ner\"]\n",
        "\n",
        "\n",
        "with nlp.disable_pipes(*other_pipes):  # Only train NER\n",
        "    optimizer = nlp.resume_training()\n",
        "    for itn in range(10):  # Number of training iterations\n",
        "        random.shuffle(examples)\n",
        "        losses = {}\n",
        "\n",
        "        # Batch up the examples using spaCy's minibatch\n",
        "        batches = minibatch(examples, size=compounding(4., 32., 1.001))\n",
        "        for batch in batches:\n",
        "            nlp.update(\n",
        "                batch,  # batch of Example objects\n",
        "                drop=0.5,  # dropout - make it harder to memorize data\n",
        "                sgd=optimizer,  # callable to update weights\n",
        "                losses=losses)\n",
        "        print(\"Losses\", losses)\n",
        "\n",
        "# Save the model to disk\n",
        "nlp.to_disk(\"./SpacyNER\")"
      ],
      "metadata": {
        "id": "bzzuPY_kKIiR"
      },
      "execution_count": null,
      "outputs": []
    },
    {
      "cell_type": "markdown",
      "source": [],
      "metadata": {
        "id": "XIrLmPeHW9OP"
      }
    },
    {
      "cell_type": "markdown",
      "source": [
        "# **Fine-tuning distillBERT**\n"
      ],
      "metadata": {
        "id": "RD6AiKelXCvy"
      }
    },
    {
      "cell_type": "markdown",
      "source": [
        "The final model to try will be to fine-tune an existant one, but to serve our process. To do so, we will fine-tune distillBERT. DistillBERT is a smaller version of BERT, a model built for a multitude of tasks; but namely the one used in this project; Named-Entity Recognition. \\\n",
        "\n",
        "What is being done in this part of the project is adding a layer to the underlying architecture of BERT. In other words, adding a classification layer so our model can tag the words in the sentence, and learn to recognize the proper tags.\n",
        "\n",
        "The following code is adapted from huggingface's tutorial on fine-tuning a token classification model found here:\n",
        "\n",
        "https://huggingface.co/docs/transformers/en/tasks/token_classification\n"
      ],
      "metadata": {
        "id": "krjM3kDvY1i9"
      }
    },
    {
      "cell_type": "code",
      "source": [
        "from google.colab import drive\n",
        "drive.mount('/content/drive')"
      ],
      "metadata": {
        "id": "YOKI7YVxXI6N"
      },
      "execution_count": null,
      "outputs": []
    },
    {
      "cell_type": "code",
      "source": [
        "!pip install transformers datasets evaluate seqeval\n",
        "!pip install transformers[torch] -U\n",
        "!pip install accelerate -U"
      ],
      "metadata": {
        "id": "1Nf8MWsKXPyf"
      },
      "execution_count": null,
      "outputs": []
    },
    {
      "cell_type": "code",
      "source": [
        "from transformers import DistilBertTokenizerFast, DistilBertForTokenClassification, Trainer, TrainingArguments\n",
        "from transformers import AutoTokenizer\n",
        "from transformers import AutoModelForTokenClassification, TrainingArguments, Trainer\n",
        "from datasets import load_dataset\n",
        "from transformers import DataCollatorForTokenClassification\n",
        "from datasets import DatasetDict\n",
        "import evaluate\n",
        "import torch\n",
        "import numpy as np"
      ],
      "metadata": {
        "id": "ZR42URjxXRnN"
      },
      "execution_count": null,
      "outputs": []
    },
    {
      "cell_type": "markdown",
      "source": [
        "Loading the dataset and filtering to keep only necessary columns."
      ],
      "metadata": {
        "id": "ptTGSmq-ajo2"
      }
    },
    {
      "cell_type": "code",
      "source": [
        "dataset = load_dataset(\"ai4privacy/pii-masking-200k\", split = 'train[:1%]') #take 50% of the dataset since training time too long just for model testing\n",
        "\n",
        "# Dropping columns that won't be used\n",
        "dataset = dataset.remove_columns([\"masked_text\", \"unmasked_text\", \"privacy_mask\", \"span_labels\"])\n",
        "dataset = dataset.rename_column(\"tokenised_text\", \"tokens\")\n",
        "dataset"
      ],
      "metadata": {
        "id": "Be8R89tSX3zO"
      },
      "execution_count": null,
      "outputs": []
    },
    {
      "cell_type": "markdown",
      "source": [
        "Given the dataset doesn't have a train and test split as some datasets on huggingface have, we create our own."
      ],
      "metadata": {
        "id": "FtC_-jwxa4ec"
      }
    },
    {
      "cell_type": "code",
      "source": [
        "train_test_split = dataset.train_test_split(test_size=0.2)\n",
        "\n",
        "train_test_split"
      ],
      "metadata": {
        "id": "ddKREklgX5lA"
      },
      "execution_count": null,
      "outputs": []
    },
    {
      "cell_type": "markdown",
      "source": [
        "Likewise, the dataset we have doesn't give us a mapping of features to id, or vis versa. We extract these from the dataset ourselves."
      ],
      "metadata": {
        "id": "2zNPoXvzbCCu"
      }
    },
    {
      "cell_type": "code",
      "source": [
        "ner_tags = set()\n",
        "\n",
        "for split in train_test_split.keys():\n",
        "    for example in train_test_split[split]:\n",
        "        labels = example['bio_labels']\n",
        "        ner_tags.update(labels)\n",
        "\n",
        "# Creating a label -> ID mapping\n",
        "label2id = {label: id for id, label in enumerate(ner_tags)}\n",
        "\n",
        "# Creating an id -> Label mapping\n",
        "id2label = {id: label for label, id in label2id.items()}\n",
        "\n",
        "ner_tags = list(ner_tags)\n",
        "print(ner_tags)\n",
        "print(label2id)\n",
        "print(id2label)\n"
      ],
      "metadata": {
        "id": "kaGOyJBgX68A"
      },
      "execution_count": null,
      "outputs": []
    },
    {
      "cell_type": "markdown",
      "source": [
        "Here, we import the tokenizer. It is also noted that the tokenizer doesn't follow the same format for tokens as does our dataset. In other words, BERT uses special tokens such as [CLS] and [SEP], these are not included inside our dataset. Let's see an example"
      ],
      "metadata": {
        "id": "2W8ilmAWbouc"
      }
    },
    {
      "cell_type": "code",
      "source": [
        "tokenizer = AutoTokenizer.from_pretrained(\"distilbert/distilbert-base-uncased\")"
      ],
      "metadata": {
        "id": "xSJExl0rX8V9"
      },
      "execution_count": null,
      "outputs": []
    },
    {
      "cell_type": "code",
      "source": [
        "example = train_test_split[\"train\"][0]\n",
        "tokenized_input = tokenizer(example[\"tokens\"], is_split_into_words=True)\n",
        "tokens = tokenizer.convert_ids_to_tokens(tokenized_input[\"input_ids\"])\n",
        "print(tokens)"
      ],
      "metadata": {
        "id": "Xx5pAXHYX_x6"
      },
      "execution_count": null,
      "outputs": []
    },
    {
      "cell_type": "markdown",
      "source": [
        "Let's create a mapping from bio_labels to ids. We use the set we extrapolated from above to do this. And re-map our dataset. We print below the new schema and a small subset of it."
      ],
      "metadata": {
        "id": "9LZ0pZkJcBZh"
      }
    },
    {
      "cell_type": "code",
      "source": [
        "def map_labels_to_ids(row):\n",
        "    # Convert each label in 'bio_labels' to its integer ID\n",
        "    row['ner_tags'] = [label2id[label] for label in row['bio_labels']]\n",
        "    return row\n",
        "\n",
        "train_test_split = train_test_split.map(map_labels_to_ids)"
      ],
      "metadata": {
        "id": "LomX_n5HYBJT"
      },
      "execution_count": null,
      "outputs": []
    },
    {
      "cell_type": "code",
      "source": [
        "# New Schema\n",
        "print(train_test_split[\"train\"][\"bio_labels\"][0])\n",
        "print(train_test_split[\"train\"][\"tokens\"][0])\n",
        "print(train_test_split[\"train\"][\"ner_tags\"][0])"
      ],
      "metadata": {
        "id": "MLaXxCHNYCdC"
      },
      "execution_count": null,
      "outputs": []
    },
    {
      "cell_type": "markdown",
      "source": [
        "Re-Alignment\n",
        "As mentioned above, the tokens given in the dataset and the format used by BERT are different. To solve our problem, we-realign the model .\n",
        "For more information, see the documentation on huggingface."
      ],
      "metadata": {
        "id": "roBLSnmmcWW0"
      }
    },
    {
      "cell_type": "code",
      "source": [
        "def tokenize_and_align_labels(examples):\n",
        "    tokenized_inputs = tokenizer(examples[\"tokens\"], truncation=True, padding=True, max_length=512, is_split_into_words=True)\n",
        "\n",
        "    labels = []\n",
        "    for i, label in enumerate(examples[f\"ner_tags\"]):\n",
        "        word_ids = tokenized_inputs.word_ids(batch_index=i)  # Mapping each token to its original word in the input. Special tokens added by the tokenizer are mapped to None.\n",
        "        previous_word_idx = None\n",
        "        label_ids = []\n",
        "        for word_idx in word_ids:  # Set the special tokens to -100.\n",
        "            if word_idx is None:\n",
        "                label_ids.append(-100)\n",
        "            elif word_idx != previous_word_idx:  # Only label the first token of a given word.\n",
        "                label_ids.append(label[word_idx])\n",
        "            else:\n",
        "                label_ids.append(-100)\n",
        "            previous_word_idx = word_idx\n",
        "        labels.append(label_ids)\n",
        "\n",
        "    tokenized_inputs[\"labels\"] = labels\n",
        "    return tokenized_inputs"
      ],
      "metadata": {
        "id": "V3hZd1xnYFQs"
      },
      "execution_count": 1,
      "outputs": []
    },
    {
      "cell_type": "markdown",
      "source": [
        "Re-mapping the whole dataset."
      ],
      "metadata": {
        "id": "RFsUQz5YegG2"
      }
    },
    {
      "cell_type": "code",
      "source": [
        "tokenized_dataset = train_test_split.map(tokenize_and_align_labels, batched=True)"
      ],
      "metadata": {
        "id": "ujOPLqM0YGux"
      },
      "execution_count": null,
      "outputs": []
    },
    {
      "cell_type": "code",
      "source": [
        "#Keeping only required columns for training\n",
        "required_columns = ['input_ids', 'attention_mask', 'labels']\n",
        "columns_to_remove = [column for column in tokenized_dataset['train'].column_names if column not in required_columns]\n",
        "\n",
        "# Now, use the map function to remove unnecessary columns\n",
        "tokenized_dataset = tokenized_dataset.map(lambda examples: examples, remove_columns=columns_to_remove, batched=True)"
      ],
      "metadata": {
        "id": "mcGxeqHSYJCL"
      },
      "execution_count": null,
      "outputs": []
    },
    {
      "cell_type": "code",
      "source": [
        "data_collator = DataCollatorForTokenClassification(tokenizer=tokenizer)"
      ],
      "metadata": {
        "id": "pLDi-SnOYKZI"
      },
      "execution_count": null,
      "outputs": []
    },
    {
      "cell_type": "code",
      "source": [
        "seqeval = evaluate.load(\"seqeval\")"
      ],
      "metadata": {
        "id": "q4sUscF7YL5g"
      },
      "execution_count": null,
      "outputs": []
    },
    {
      "cell_type": "markdown",
      "source": [
        "Creating the compute metrics for the neural network."
      ],
      "metadata": {
        "id": "Um88RHScep9h"
      }
    },
    {
      "cell_type": "code",
      "source": [
        "def compute_metrics(p):\n",
        "    predictions, labels = p\n",
        "    predictions = np.argmax(predictions, axis=2)\n",
        "\n",
        "    label_list = ner_tags\n",
        "\n",
        "    true_predictions = [\n",
        "        [label_list[p] for (p, l) in zip(prediction, label) if l != -100]\n",
        "        for prediction, label in zip(predictions, labels)\n",
        "    ]\n",
        "    true_labels = [\n",
        "        [label_list[l] for (p, l) in zip(prediction, label) if l != -100]\n",
        "        for prediction, label in zip(predictions, labels)\n",
        "    ]\n",
        "\n",
        "    results = seqeval.compute(predictions=true_predictions, references=true_labels)\n",
        "    return {\n",
        "        \"precision\": results[\"overall_precision\"],\n",
        "        \"recall\": results[\"overall_recall\"],\n",
        "        \"f1\": results[\"overall_f1\"],\n",
        "        \"accuracy\": results[\"overall_accuracy\"],\n",
        "    }"
      ],
      "metadata": {
        "id": "nw7n8-3QYNCq"
      },
      "execution_count": null,
      "outputs": []
    },
    {
      "cell_type": "code",
      "source": [
        "# Passing our label conversions and their count to the model\n",
        "model = AutoModelForTokenClassification.from_pretrained(\"distilbert-base-uncased\", num_labels=len(ner_tags), id2label=id2label, label2id=label2id)\n"
      ],
      "metadata": {
        "id": "9ssaWZPoYOcK"
      },
      "execution_count": null,
      "outputs": []
    },
    {
      "cell_type": "code",
      "source": [
        "training_args = TrainingArguments(\n",
        "    output_dir=\"/content/drive/MyDrive/Big Data Anonymization/Model Path/2\",\n",
        "    learning_rate=2e-5,\n",
        "    per_device_train_batch_size=16,\n",
        "    per_device_eval_batch_size=16,\n",
        "    num_train_epochs=3, #change to 2 when model works\n",
        "    weight_decay=0.01,\n",
        "    evaluation_strategy=\"epoch\",\n",
        "    save_strategy=\"epoch\",\n",
        "    load_best_model_at_end=True,\n",
        "    push_to_hub=False,\n",
        ")\n",
        "\n",
        "trainer = Trainer(\n",
        "    model=model,\n",
        "    args=training_args,\n",
        "    train_dataset=tokenized_dataset[\"train\"],\n",
        "    eval_dataset=tokenized_dataset[\"test\"],\n",
        "    tokenizer=tokenizer,\n",
        "    data_collator=data_collator,\n",
        "    compute_metrics=compute_metrics,\n",
        ")\n",
        "\n",
        "trainer.train()"
      ],
      "metadata": {
        "id": "0esV0MW-YPk-"
      },
      "execution_count": null,
      "outputs": []
    },
    {
      "cell_type": "markdown",
      "source": [
        "A previous iteration before google collab crashed yield:"
      ],
      "metadata": {
        "id": "UsmYdlx8syH-"
      }
    },
    {
      "cell_type": "markdown",
      "source": [
        "![image.png](data:image/png;base64,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)"
      ],
      "metadata": {
        "id": "EuAXsr3MswUT"
      }
    }
  ]
}